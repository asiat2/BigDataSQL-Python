{
  "nbformat": 4,
  "nbformat_minor": 0,
  "metadata": {
    "colab": {
      "private_outputs": true,
      "provenance": [],
      "mount_file_id": "14diJBDx2vGguaXAOsedF6DHuaMnL2aCK",
      "authorship_tag": "ABX9TyPhHHMBtCcbOQesvzl48j58",
      "include_colab_link": true
    },
    "kernelspec": {
      "name": "python3",
      "display_name": "Python 3"
    },
    "language_info": {
      "name": "python"
    }
  },
  "cells": [
    {
      "cell_type": "markdown",
      "metadata": {
        "id": "view-in-github",
        "colab_type": "text"
      },
      "source": [
        "<a href=\"https://colab.research.google.com/github/asiat2/BigDataSQL-Python/blob/main/BigData.ipynb\" target=\"_parent\"><img src=\"https://colab.research.google.com/assets/colab-badge.svg\" alt=\"Open In Colab\"/></a>"
      ]
    },
    {
      "cell_type": "code",
      "source": [
        "from google.colab import drive\n",
        "drive.mount('/content/drive')"
      ],
      "metadata": {
        "id": "fHzb-7ZhVFuS"
      },
      "execution_count": null,
      "outputs": []
    },
    {
      "cell_type": "code",
      "source": [
        "# Install PySpark\n",
        "!pip install pyspark\n",
        "import pandas as pd\n",
        "import matplotlib.pyplot as plt\n",
        "import seaborn as sns\n",
        "import sqlite3\n"
      ],
      "metadata": {
        "id": "etq0EZggFKv7"
      },
      "execution_count": null,
      "outputs": []
    },
    {
      "cell_type": "markdown",
      "source": [
        "### **Loading the dataset**"
      ],
      "metadata": {
        "id": "tjsTz5RWWEEt"
      }
    },
    {
      "cell_type": "code",
      "source": [
        "df1 = pd.read_csv('/content/drive/MyDrive/ColabNotebooks/dataset/name.basics.csv')\n",
        "df2 = pd.read_csv('/content/drive/MyDrive/ColabNotebooks/dataset/title.akas.csv')\n",
        "df3 = pd.read_csv('/content/drive/MyDrive/ColabNotebooks/dataset/title.basics.csv')\n",
        "df4 = pd.read_csv('/content/drive/MyDrive/ColabNotebooks/dataset/title.principals.csv')\n",
        "df5 = pd.read_csv('/content/drive/MyDrive/ColabNotebooks/dataset/title.ratings.csv')"
      ],
      "metadata": {
        "id": "td3NIURNUXNH"
      },
      "execution_count": null,
      "outputs": []
    },
    {
      "cell_type": "code",
      "source": [
        "print(df1.head())\n",
        "print(df2.head())\n",
        "print(df3.head())\n",
        "print(df4.head())\n",
        "print(df5.head())"
      ],
      "metadata": {
        "id": "zpYT9igGVL64"
      },
      "execution_count": null,
      "outputs": []
    },
    {
      "cell_type": "markdown",
      "source": [
        "### **Data Transformation**"
      ],
      "metadata": {
        "id": "0hCp7hvYVsqU"
      }
    },
    {
      "cell_type": "code",
      "source": [
        "df1.columns = df1.iloc[0]  # Set the first row as the header\n",
        "df1 = df1[1:].reset_index(drop=True)  # Drop the first row and reset the index"
      ],
      "metadata": {
        "id": "M5f_KP6oV6oZ"
      },
      "execution_count": null,
      "outputs": []
    },
    {
      "cell_type": "code",
      "source": [
        "# Rename 'titleId' to 'tconst'\n",
        "df2.rename(columns={\"titleId\": \"tconst\"}, inplace=True)"
      ],
      "metadata": {
        "id": "wn7SSq_wVvAk"
      },
      "execution_count": null,
      "outputs": []
    },
    {
      "cell_type": "code",
      "source": [
        "#checking data type and column names\n",
        "print(df1.info())\n",
        "print(df2.info())\n",
        "print(df3.info())\n",
        "print(df4.info())\n",
        "print(df5.info())"
      ],
      "metadata": {
        "id": "Xznw4OmnWRSc"
      },
      "execution_count": null,
      "outputs": []
    },
    {
      "cell_type": "code",
      "source": [
        "# Create an SQLite database in memory\n",
        "conn = sqlite3.connect(\":memory:\")"
      ],
      "metadata": {
        "id": "I0meBl4ParMx"
      },
      "execution_count": null,
      "outputs": []
    },
    {
      "cell_type": "code",
      "source": [
        "# Load DataFrames into SQLite tables\n",
        "df1.to_sql('/content/drive/MyDrive/ColabNotebooks/dataset/name.basics.csv', conn, index=False, if_exists='replace')\n",
        "df2.to_sql('/content/drive/MyDrive/ColabNotebooks/dataset/title.akas.csv', conn, index=False, if_exists='replace')\n",
        "df3.to_sql('/content/drive/MyDrive/ColabNotebooks/dataset/title.basics.csv', conn, index=False, if_exists='replace')\n",
        "df4.to_sql('/content/drive/MyDrive/ColabNotebooks/dataset/title.principals.csv', conn, index=False, if_exists='replace')\n",
        "df5.to_sql('/content/drive/MyDrive/ColabNotebooks/dataset/title.ratings.csv', conn, index=False, if_exists='replace')"
      ],
      "metadata": {
        "id": "z3-vb5ecdbkW"
      },
      "execution_count": null,
      "outputs": []
    },
    {
      "cell_type": "markdown",
      "source": [
        "### **Write an SQL query to merge the datasets**\n",
        "\n",
        "\n"
      ],
      "metadata": {
        "id": "-4g4TWTmfTY6"
      }
    },
    {
      "cell_type": "code",
      "source": [
        "# Extract relevant columns from each dataset\n",
        "df1_filtered = df1[['nconst']]  # Only needed for linking principal roles\n",
        "df2_filtered = df2[['tconst', 'region']]\n",
        "df3_filtered = df3[['tconst', 'genres', 'runtimeMinutes','startYear']]\n",
        "df4_filtered = df4[['tconst', 'nconst', 'category']]  # Includes nconst for linking\n",
        "df5_filtered = df5[['tconst', 'averageRating', 'numVotes']]\n",
        "\n",
        "# Merge datasets\n",
        "merged_data = (\n",
        "    df3_filtered\n",
        "    .merge(df2_filtered, on='tconst', how='inner')  # Merge with title_akas\n",
        "    .merge(df5_filtered, on='tconst', how='inner')  # Merge with title_ratings\n",
        "    .merge(df4_filtered, on='tconst', how='inner')  # Merge with title_principals\n",
        "    .merge(df1_filtered, on='nconst', how='inner')  # Merge with name_basics\n",
        ")\n",
        "\n",
        "# Display the merged data\n",
        "print(merged_data.head())\n"
      ],
      "metadata": {
        "id": "pahF-XZAduAV"
      },
      "execution_count": null,
      "outputs": []
    },
    {
      "cell_type": "code",
      "source": [
        "# Save the merged data to a CSV file\n",
        "merged_data.to_csv('merged_data.csv', index=False)\n",
        "\n",
        "# Print a confirmation message\n",
        "print(\"Merged dataset saved to 'merged_data.csv'.\")\n"
      ],
      "metadata": {
        "id": "qTbeobgsbtV4"
      },
      "execution_count": null,
      "outputs": []
    },
    {
      "cell_type": "markdown",
      "source": [
        "###**Loading the merged dataset**"
      ],
      "metadata": {
        "id": "Ck-4HxHySigl"
      }
    },
    {
      "cell_type": "code",
      "source": [
        "sample = pd.read_csv('merged_data.csv')\n",
        "sample.head()"
      ],
      "metadata": {
        "id": "10Xt_uetSI_p"
      },
      "execution_count": null,
      "outputs": []
    },
    {
      "cell_type": "code",
      "source": [
        "# to read last five rows\n",
        "sample.tail()"
      ],
      "metadata": {
        "collapsed": true,
        "id": "M35_KSAySt91"
      },
      "execution_count": null,
      "outputs": []
    },
    {
      "cell_type": "code",
      "source": [
        "sample.info()"
      ],
      "metadata": {
        "id": "h56YBUQuz6s4"
      },
      "execution_count": null,
      "outputs": []
    },
    {
      "cell_type": "code",
      "source": [
        "# to know the rows and column of the data\n",
        "sample.shape"
      ],
      "metadata": {
        "id": "z8d8kheMStwn"
      },
      "execution_count": null,
      "outputs": []
    },
    {
      "cell_type": "code",
      "source": [
        "duplicate_rows = sample[sample.duplicated()]\n",
        "print(\"Number of duplicate rows:\", duplicate_rows.shape[0])"
      ],
      "metadata": {
        "id": "xdYyfy_QStk7"
      },
      "execution_count": null,
      "outputs": []
    },
    {
      "cell_type": "code",
      "source": [
        "#to removed duplicate\n",
        "sample.drop_duplicates(inplace = True)"
      ],
      "metadata": {
        "id": "ztQh3T1YStXk"
      },
      "execution_count": null,
      "outputs": []
    },
    {
      "cell_type": "code",
      "source": [
        "duplicate_rows = sample[sample.duplicated()]\n",
        "print(\"Number of duplicate rows:\", duplicate_rows.shape[0])"
      ],
      "metadata": {
        "id": "I0s3pDIPS9se"
      },
      "execution_count": null,
      "outputs": []
    },
    {
      "cell_type": "code",
      "source": [
        "count_backslash_N = sample.isin(['\\\\N']).sum()\n",
        "print(count_backslash_N)"
      ],
      "metadata": {
        "id": "6AirtsfkS9pQ"
      },
      "execution_count": null,
      "outputs": []
    },
    {
      "cell_type": "code",
      "source": [
        "# Filter out rows where any column contains the value '\\N' (often used as a placeholder for missing or invalid data).\n",
        "# This ensures the DataFrame only retains rows without '\\N' in any column.\n",
        "sample = sample[~sample.isin(['\\\\N']).any(axis=1)]\n",
        "count_backslash_N = sample.isin(['\\\\N']).sum()\n",
        "print(count_backslash_N)"
      ],
      "metadata": {
        "collapsed": true,
        "id": "edWhYrj6S9mb"
      },
      "execution_count": null,
      "outputs": []
    },
    {
      "cell_type": "code",
      "source": [
        "sample.shape"
      ],
      "metadata": {
        "id": "kwYREEwDS9jv"
      },
      "execution_count": null,
      "outputs": []
    },
    {
      "cell_type": "code",
      "source": [
        "#statistical summary\n",
        "sample.describe()"
      ],
      "metadata": {
        "collapsed": true,
        "id": "sAas8r1FS9g8"
      },
      "execution_count": null,
      "outputs": []
    },
    {
      "cell_type": "code",
      "source": [
        "# Save the sample data to a CSV file\n",
        "sample.to_csv('sample.csv', index=False)\n",
        "\n",
        "# Print a confirmation message\n",
        "print(\"sample dataset saved to 'sample.csv'.\")\n"
      ],
      "metadata": {
        "id": "8b3KmbEx3oBT"
      },
      "execution_count": null,
      "outputs": []
    },
    {
      "cell_type": "markdown",
      "source": [
        "###**The insight of te Analysis**"
      ],
      "metadata": {
        "id": "78M85Q5Q0_jM"
      }
    },
    {
      "cell_type": "code",
      "source": [
        "# Group by region and genres to count occurrences\n",
        "popular_genres = (\n",
        "    sample.groupby(['region', 'genres'])\n",
        "    .size()\n",
        "    .reset_index(name='genre_count')\n",
        "    .sort_values(by='genre_count', ascending=False)\n",
        ")\n",
        "\n",
        "# Display top results\n",
        "print(popular_genres.head(10))\n",
        "\n",
        "# Visualization\n",
        "import seaborn as sns\n",
        "import matplotlib.pyplot as plt\n",
        "\n",
        "sns.barplot(data=popular_genres.head(10), x='genre_count', y='genres', hue='region')\n",
        "plt.title('Most Popular Genres by Region')\n",
        "plt.show()\n"
      ],
      "metadata": {
        "id": "SJpxfx1YnsAD"
      },
      "execution_count": null,
      "outputs": []
    },
    {
      "cell_type": "code",
      "source": [
        "# Check correlation between runtime and average ratings\n",
        "runtime_ratings = sample[['runtimeMinutes', 'averageRating']].dropna()\n",
        "correlation = runtime_ratings.corr()\n",
        "print(f\"Correlation between Runtime and Average Ratings: \\n{correlation}\")\n",
        "\n",
        "# Scatter plot with color based on averageRating\n",
        "plt.figure(figsize=(10, 6))\n",
        "scatter = plt.scatter(\n",
        "    runtime_ratings['runtimeMinutes'],\n",
        "    runtime_ratings['averageRating'],\n",
        "    c=runtime_ratings['averageRating'],  # Use averageRating for color\n",
        "    cmap='viridis',  # Color map\n",
        "    alpha=0.8  # Transparency\n",
        ")\n",
        "plt.colorbar(scatter, label='Average Rating')  # Add a color bar\n",
        "plt.title('Runtime vs. Average Ratings (Colored by Average Rating)')\n",
        "plt.xlabel('Runtime (Minutes)')\n",
        "plt.ylabel('Average Rating')\n",
        "\n",
        "plt.show()\n"
      ],
      "metadata": {
        "id": "xOnVIHE9Ukem"
      },
      "execution_count": null,
      "outputs": []
    },
    {
      "cell_type": "code",
      "source": [
        "# Group by region and calculate the average rating\n",
        "avg_ratings_by_region = (\n",
        "    sample.groupby('region')['averageRating']\n",
        "    .mean()\n",
        "    .reset_index()\n",
        "    .sort_values(by='averageRating', ascending=False)\n",
        ")\n",
        "\n",
        "# Display top regions\n",
        "print(avg_ratings_by_region.head())\n",
        "\n",
        "# Visualization\n",
        "sns.barplot(data=avg_ratings_by_region.head(10), x='averageRating', y='region')\n",
        "plt.title('Average Rating by Region')\n",
        "plt.show()\n"
      ],
      "metadata": {
        "id": "9dmBjDgdqb9G"
      },
      "execution_count": null,
      "outputs": []
    },
    {
      "cell_type": "code",
      "source": [
        "# Analyze the relationship between votes and ratings\n",
        "votes_ratings = sample[['numVotes', 'averageRating']].dropna()\n",
        "\n",
        "# Scatter plot with color based on numVotes\n",
        "plt.figure(figsize=(10, 6))\n",
        "scatter = plt.scatter(\n",
        "    votes_ratings['numVotes'],\n",
        "    votes_ratings['averageRating'],\n",
        "    c=votes_ratings['numVotes'],  # Use numVotes for color\n",
        "    cmap='viridis',  # Color map\n",
        "    alpha=0.8  # Transparency for better visibility\n",
        ")\n",
        "plt.colorbar(scatter, label='Number of Votes (Log Scale)')  # Add a color bar\n",
        "plt.title('Votes vs. Ratings (Colored by Number of Votes)')\n",
        "plt.xscale('log')  # Log scale for better visualization\n",
        "plt.xlabel('Number of Votes (Log Scale)')\n",
        "plt.ylabel('Average Rating')\n",
        "plt.show()\n",
        "\n",
        "# Correlation\n",
        "correlation = votes_ratings.corr()\n",
        "print(f\"Correlation between Votes and Ratings: \\n{correlation}\")\n",
        "\n"
      ],
      "metadata": {
        "id": "HVmLesbFqiav"
      },
      "execution_count": null,
      "outputs": []
    },
    {
      "cell_type": "code",
      "source": [
        "# Group by category (principal roles) and calculate average rating\n",
        "ratings_by_role = (\n",
        "    sample.groupby('category')['averageRating']\n",
        "    .mean()\n",
        "    .reset_index()\n",
        "    .sort_values(by='averageRating', ascending=False)\n",
        ")\n",
        "\n",
        "# Display results\n",
        "print(ratings_by_role)\n",
        "\n",
        "# Visualization\n",
        "sns.barplot(data=ratings_by_role, x='averageRating', y='category')\n",
        "plt.title('Average Rating by Principal Role')\n",
        "plt.show()\n"
      ],
      "metadata": {
        "id": "aHf7WxeZqyxq"
      },
      "execution_count": null,
      "outputs": []
    }
  ]
}